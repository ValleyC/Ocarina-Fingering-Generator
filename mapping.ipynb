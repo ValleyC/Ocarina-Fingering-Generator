{
 "cells": [
  {
   "cell_type": "code",
   "execution_count": 5,
   "metadata": {},
   "outputs": [
    {
     "name": "stdout",
     "output_type": "stream",
     "text": [
      "Directory not found for key C: ./images/C\n",
      "Directory not found for key D: ./images/D\n",
      "Directory not found for key F: ./images/F\n",
      "Directory not found for key G: ./images/G\n",
      "Directory not found for key A: ./images/A\n",
      "Directory not found for key bB: ./images/bB\n",
      "Directory not found for key bE: ./images/bE\n"
     ]
    }
   ],
   "source": [
    "import os\n",
    "\n",
    "# Define the keys and their corresponding directories\n",
    "keys = ['C', 'D', 'F', 'G', 'A', 'bB', 'bE']\n",
    "image_dir_base = '../images/'\n",
    "\n",
    "# Mapping of enharmonic equivalents\n",
    "enharmonic_map = {\n",
    "    '#1': 'b2',\n",
    "    '#2': 'b3',\n",
    "    '#3': 'b4',\n",
    "    '#4': 'b5',\n",
    "    '#5': 'b6',\n",
    "    '#6': 'b7',\n",
    "    '#-1': 'b1',\n",
    "    '#-2': 'b-3',\n",
    "    '#-3': 'b-4',\n",
    "    '#-4': 'b-5',\n",
    "    '#-5': 'b-6',\n",
    "    '#-6': 'b-7',\n",
    "    '#7': 'b1',\n",
    "    '#+1': 'b+2',\n",
    "    '#+2': 'b+3',\n",
    "    '#+3': 'b+4',\n",
    "    '#+4': 'b+5',\n",
    "    '#+5': 'b+6',\n",
    "    '#+6': 'b+7',\n",
    "}\n",
    "\n",
    "def generate_mapping_for_key(key):\n",
    "    mapping = {}\n",
    "    image_directory = os.path.join(image_dir_base, key)\n",
    "    if not os.path.exists(image_directory):\n",
    "        print(f\"Directory not found for key {key}: {image_directory}\")\n",
    "        return None\n",
    "\n",
    "    for filename in os.listdir(image_directory):\n",
    "        if filename.endswith('.png'):\n",
    "            note_name = filename.replace('.png', '').replace(key, '')  # Remove the key prefix from the note name\n",
    "            image_path = os.path.join(image_directory, filename).replace('\\\\', '/')  # Normalize path for cross-platform compatibility\n",
    "\n",
    "            # Add the primary mapping (e.g., '1': '../images/C/1.png')\n",
    "            mapping[note_name] = image_path\n",
    "\n",
    "            # Add the enharmonic equivalent if it exists (e.g., '#5' -> 'b6')\n",
    "            if note_name in enharmonic_map:\n",
    "                mapping[enharmonic_map[note_name]] = image_path\n",
    "\n",
    "    return mapping\n",
    "\n",
    "def main():\n",
    "    for key in keys:\n",
    "        mapping = generate_mapping_for_key(key)\n",
    "        if mapping:\n",
    "            print(f\"# Mapping for {key} key\")\n",
    "            print(f\"{key.lower()}_key_note_to_image = \" + \"{\")\n",
    "            for note, path in sorted(mapping.items()):\n",
    "                print(f\"    '{note}': '{path}',\")\n",
    "            print(\"}\\n\")\n",
    "\n",
    "if __name__ == \"__main__\":\n",
    "    main()\n"
   ]
  }
 ],
 "metadata": {
  "kernelspec": {
   "display_name": "base",
   "language": "python",
   "name": "python3"
  },
  "language_info": {
   "codemirror_mode": {
    "name": "ipython",
    "version": 3
   },
   "file_extension": ".py",
   "mimetype": "text/x-python",
   "name": "python",
   "nbconvert_exporter": "python",
   "pygments_lexer": "ipython3",
   "version": "3.9.12"
  }
 },
 "nbformat": 4,
 "nbformat_minor": 2
}
