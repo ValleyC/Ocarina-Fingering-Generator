{
 "cells": [
  {
   "cell_type": "code",
   "execution_count": 6,
   "metadata": {},
   "outputs": [
    {
     "name": "stdout",
     "output_type": "stream",
     "text": [
      "Resized and saved #-2.png to (269, 214)\n",
      "Resized and saved #-4.png to (269, 214)\n",
      "Resized and saved #-5.png to (269, 214)\n",
      "Resized and saved #-6.png to (269, 214)\n",
      "Resized and saved #1.png to (269, 214)\n",
      "Resized and saved #2.png to (269, 214)\n",
      "Resized and saved #4.png to (269, 214)\n",
      "Resized and saved #5.png to (269, 214)\n",
      "Resized and saved #6.png to (269, 214)\n",
      "Resized and saved -2.png to (269, 214)\n",
      "Resized and saved -3.png to (269, 214)\n",
      "Resized and saved -4.png to (269, 214)\n",
      "Resized and saved -5.png to (269, 214)\n",
      "Resized and saved -6.png to (269, 214)\n",
      "Resized and saved -7.png to (269, 214)\n",
      "Resized and saved 1.png to (269, 214)\n",
      "Resized and saved 2.png to (269, 214)\n",
      "Resized and saved 3.png to (269, 214)\n",
      "Resized and saved 4.png to (269, 214)\n",
      "Resized and saved 5.png to (269, 214)\n",
      "Resized and saved 6.png to (269, 214)\n"
     ]
    },
    {
     "name": "stderr",
     "output_type": "stream",
     "text": [
      "C:\\Users\\Valley\\AppData\\Local\\Temp\\ipykernel_25096\\3193120247.py:15: DeprecationWarning: ANTIALIAS is deprecated and will be removed in Pillow 10 (2023-07-01). Use Resampling.LANCZOS instead.\n",
      "  resized_img = img.resize(size, Image.ANTIALIAS)\n"
     ]
    }
   ],
   "source": [
    "import os\n",
    "from PIL import Image\n",
    "\n",
    "# Define the directory containing the images\n",
    "image_directory = '../images/G/'\n",
    "# Define the standard dimensions\n",
    "standard_size = (269, 214)\n",
    "\n",
    "# Function to resize all images in the directory\n",
    "def resize_images_in_directory(directory, size):\n",
    "    for filename in os.listdir(directory):\n",
    "        if filename.endswith(('.png', '.jpg', '.jpeg')):  # Add more extensions if needed\n",
    "            image_path = os.path.join(directory, filename)\n",
    "            with Image.open(image_path) as img:\n",
    "                resized_img = img.resize(size, Image.ANTIALIAS)\n",
    "                resized_img.save(image_path)\n",
    "                print(f\"Resized and saved {filename} to {size}\")\n",
    "\n",
    "# Call the function\n",
    "resize_images_in_directory(image_directory, standard_size)\n"
   ]
  }
 ],
 "metadata": {
  "kernelspec": {
   "display_name": "base",
   "language": "python",
   "name": "python3"
  },
  "language_info": {
   "codemirror_mode": {
    "name": "ipython",
    "version": 3
   },
   "file_extension": ".py",
   "mimetype": "text/x-python",
   "name": "python",
   "nbconvert_exporter": "python",
   "pygments_lexer": "ipython3",
   "version": "3.9.12"
  }
 },
 "nbformat": 4,
 "nbformat_minor": 2
}
